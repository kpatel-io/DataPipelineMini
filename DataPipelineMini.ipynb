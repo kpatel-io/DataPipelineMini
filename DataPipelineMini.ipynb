{
 "cells": [
  {
   "cell_type": "code",
   "execution_count": 8,
   "id": "3aae3509",
   "metadata": {},
   "outputs": [],
   "source": [
    "import zipfile\n",
    "import csv\n",
    "import pandas as pd\n",
    "import os\n",
    "import logging\n",
    "import mysql.connector\n",
    "from datetime import datetime\n"
   ]
  },
  {
   "cell_type": "code",
   "execution_count": 9,
   "id": "b0c0d6f1",
   "metadata": {
    "scrolled": true
   },
   "outputs": [],
   "source": [
    "# A connection to the database table established only when the user provides the proper target host, port and user credentials. \n",
    "def get_db_connection():\n",
    "    try: \n",
    "        connection = mysql.connector.connect(user='root',\n",
    "                                            password = 'password',\n",
    "                                            host = 'localhost',\n",
    "                                            port ='3306',\n",
    "                                            database = 'datapipelinemini')\n",
    "    except Exception as error:\n",
    "        print(\"Error while connecting to database for job tracker: \", error)\n",
    "    return connection\n",
    "connection = get_db_connection()"
   ]
  },
  {
   "cell_type": "code",
   "execution_count": 10,
   "id": "267cb731",
   "metadata": {},
   "outputs": [
    {
     "ename": "ProgrammingError",
     "evalue": "1050 (42S01): Table 'ticket_sales' already exists",
     "output_type": "error",
     "traceback": [
      "\u001b[1;31m---------------------------------------------------------------------------\u001b[0m",
      "\u001b[1;31mMySQLInterfaceError\u001b[0m                       Traceback (most recent call last)",
      "\u001b[1;32m~\\anaconda3\\lib\\site-packages\\mysql\\connector\\connection_cext.py\u001b[0m in \u001b[0;36mcmd_query\u001b[1;34m(self, query, raw, buffered, raw_as_string)\u001b[0m\n\u001b[0;32m    515\u001b[0m                 \u001b[0mquery\u001b[0m \u001b[1;33m=\u001b[0m \u001b[0mquery\u001b[0m\u001b[1;33m.\u001b[0m\u001b[0mencode\u001b[0m\u001b[1;33m(\u001b[0m\u001b[1;34m'utf-8'\u001b[0m\u001b[1;33m)\u001b[0m\u001b[1;33m\u001b[0m\u001b[1;33m\u001b[0m\u001b[0m\n\u001b[1;32m--> 516\u001b[1;33m             self._cmysql.query(query,\n\u001b[0m\u001b[0;32m    517\u001b[0m                                \u001b[0mraw\u001b[0m\u001b[1;33m=\u001b[0m\u001b[0mraw\u001b[0m\u001b[1;33m,\u001b[0m \u001b[0mbuffered\u001b[0m\u001b[1;33m=\u001b[0m\u001b[0mbuffered\u001b[0m\u001b[1;33m,\u001b[0m\u001b[1;33m\u001b[0m\u001b[1;33m\u001b[0m\u001b[0m\n",
      "\u001b[1;31mMySQLInterfaceError\u001b[0m: Table 'ticket_sales' already exists",
      "\nDuring handling of the above exception, another exception occurred:\n",
      "\u001b[1;31mProgrammingError\u001b[0m                          Traceback (most recent call last)",
      "\u001b[1;32m<ipython-input-10-4010320d60bc>\u001b[0m in \u001b[0;36m<module>\u001b[1;34m\u001b[0m\n\u001b[0;32m     16\u001b[0m     \u001b[0mconnection\u001b[0m\u001b[1;33m.\u001b[0m\u001b[0mcommit\u001b[0m\u001b[1;33m(\u001b[0m\u001b[1;33m)\u001b[0m\u001b[1;33m\u001b[0m\u001b[1;33m\u001b[0m\u001b[0m\n\u001b[0;32m     17\u001b[0m     \u001b[0mcursor\u001b[0m\u001b[1;33m.\u001b[0m\u001b[0mclose\u001b[0m\u001b[1;33m(\u001b[0m\u001b[1;33m)\u001b[0m\u001b[1;33m\u001b[0m\u001b[1;33m\u001b[0m\u001b[0m\n\u001b[1;32m---> 18\u001b[1;33m \u001b[0mcreate_table\u001b[0m\u001b[1;33m(\u001b[0m\u001b[0mconnection\u001b[0m\u001b[1;33m)\u001b[0m\u001b[1;33m\u001b[0m\u001b[1;33m\u001b[0m\u001b[0m\n\u001b[0m",
      "\u001b[1;32m<ipython-input-10-4010320d60bc>\u001b[0m in \u001b[0;36mcreate_table\u001b[1;34m(connection)\u001b[0m\n\u001b[0;32m     13\u001b[0m         'num_tickets INT']\n\u001b[0;32m     14\u001b[0m     \u001b[0mstatement\u001b[0m \u001b[1;33m=\u001b[0m \u001b[1;34m\"CREATE TABLE ticket_sales ({},{},{},{},{},{},{},{},{},{})\"\u001b[0m\u001b[1;33m.\u001b[0m\u001b[0mformat\u001b[0m\u001b[1;33m(\u001b[0m\u001b[1;33m*\u001b[0m\u001b[0mschema\u001b[0m\u001b[1;33m)\u001b[0m\u001b[1;33m\u001b[0m\u001b[1;33m\u001b[0m\u001b[0m\n\u001b[1;32m---> 15\u001b[1;33m     \u001b[0mcursor\u001b[0m\u001b[1;33m.\u001b[0m\u001b[0mexecute\u001b[0m\u001b[1;33m(\u001b[0m\u001b[0mstatement\u001b[0m\u001b[1;33m)\u001b[0m\u001b[1;33m\u001b[0m\u001b[1;33m\u001b[0m\u001b[0m\n\u001b[0m\u001b[0;32m     16\u001b[0m     \u001b[0mconnection\u001b[0m\u001b[1;33m.\u001b[0m\u001b[0mcommit\u001b[0m\u001b[1;33m(\u001b[0m\u001b[1;33m)\u001b[0m\u001b[1;33m\u001b[0m\u001b[1;33m\u001b[0m\u001b[0m\n\u001b[0;32m     17\u001b[0m     \u001b[0mcursor\u001b[0m\u001b[1;33m.\u001b[0m\u001b[0mclose\u001b[0m\u001b[1;33m(\u001b[0m\u001b[1;33m)\u001b[0m\u001b[1;33m\u001b[0m\u001b[1;33m\u001b[0m\u001b[0m\n",
      "\u001b[1;32m~\\anaconda3\\lib\\site-packages\\mysql\\connector\\cursor_cext.py\u001b[0m in \u001b[0;36mexecute\u001b[1;34m(self, operation, params, multi)\u001b[0m\n\u001b[0;32m    267\u001b[0m \u001b[1;33m\u001b[0m\u001b[0m\n\u001b[0;32m    268\u001b[0m         \u001b[1;32mtry\u001b[0m\u001b[1;33m:\u001b[0m\u001b[1;33m\u001b[0m\u001b[1;33m\u001b[0m\u001b[0m\n\u001b[1;32m--> 269\u001b[1;33m             result = self._cnx.cmd_query(stmt, raw=self._raw,\n\u001b[0m\u001b[0;32m    270\u001b[0m                                          \u001b[0mbuffered\u001b[0m\u001b[1;33m=\u001b[0m\u001b[0mself\u001b[0m\u001b[1;33m.\u001b[0m\u001b[0m_buffered\u001b[0m\u001b[1;33m,\u001b[0m\u001b[1;33m\u001b[0m\u001b[1;33m\u001b[0m\u001b[0m\n\u001b[0;32m    271\u001b[0m                                          raw_as_string=self._raw_as_string)\n",
      "\u001b[1;32m~\\anaconda3\\lib\\site-packages\\mysql\\connector\\connection_cext.py\u001b[0m in \u001b[0;36mcmd_query\u001b[1;34m(self, query, raw, buffered, raw_as_string)\u001b[0m\n\u001b[0;32m    519\u001b[0m                                query_attrs=self._query_attrs)\n\u001b[0;32m    520\u001b[0m         \u001b[1;32mexcept\u001b[0m \u001b[0mMySQLInterfaceError\u001b[0m \u001b[1;32mas\u001b[0m \u001b[0mexc\u001b[0m\u001b[1;33m:\u001b[0m\u001b[1;33m\u001b[0m\u001b[1;33m\u001b[0m\u001b[0m\n\u001b[1;32m--> 521\u001b[1;33m             raise errors.get_mysql_exception(exc.errno, msg=exc.msg,\n\u001b[0m\u001b[0;32m    522\u001b[0m                                              sqlstate=exc.sqlstate)\n\u001b[0;32m    523\u001b[0m         \u001b[1;32mexcept\u001b[0m \u001b[0mAttributeError\u001b[0m\u001b[1;33m:\u001b[0m\u001b[1;33m\u001b[0m\u001b[1;33m\u001b[0m\u001b[0m\n",
      "\u001b[1;31mProgrammingError\u001b[0m: 1050 (42S01): Table 'ticket_sales' already exists"
     ]
    }
   ],
   "source": [
    "def create_table(connection):\n",
    "    cursor = connection.cursor()\n",
    "    schema = [\n",
    "        'ticket_id INT',\n",
    "        'trans_date DATE',\n",
    "        'event_id INT',\n",
    "        'event_name VARCHAR(50)',\n",
    "        'event_date DATE',\n",
    "        'event_type VARCHAR(10)',\n",
    "        'event_city VARCHAR(20)',\n",
    "        'customer_id INT',\n",
    "        'price DECIMAL',\n",
    "        'num_tickets INT']\n",
    "    statement = \"CREATE TABLE ticket_sales ({},{},{},{},{},{},{},{},{},{})\".format(*schema)\n",
    "    cursor.execute(statement)\n",
    "    connection.commit()\n",
    "    cursor.close()\n",
    "create_table(connection)"
   ]
  },
  {
   "cell_type": "code",
   "execution_count": 5,
   "id": "4bbbc85e",
   "metadata": {
    "scrolled": true
   },
   "outputs": [],
   "source": [
    "# Insert each record of the CSV File into the sales table\n",
    "def load_third_party(connection, file_path_csv='third_party_sales_1 (1).csv'):\n",
    "    cursor = connection.cursor()\n",
    "    sql = 'INSERT INTO ticket_sales (ticket_id,'\n",
    "    sql = sql + 'trans_date,event_id,event_name,event_date,event_type,'\n",
    "    sql = sql + 'event_city,customer_id,price,num_tickets) VALUES '\n",
    "    sql = sql + '(%s,%s,%s,%s,%s,%s,%s,%s,%s,%s)'\n",
    "    \n",
    "    with open(file_path_csv, 'r') as csv_file:\n",
    "        csv_reader = csv.reader(csv_file)\n",
    "        for row in csv_reader:\n",
    "            row[1] = datetime.strptime(row[1], '%Y-%m-%d')\n",
    "            cursor.execute(sql, row)\n",
    "        \n",
    "    # [Iterate through the CSV file and execute insert statement]\n",
    "    # cursor.execute('INSERT INTO logs Values ( a,b,c)', args)\n",
    "    \n",
    "    \n",
    "    connection.commit()\n",
    "    cursor.close()\n",
    "    return\n",
    "\n",
    "load_third_party(connection)"
   ]
  },
  {
   "cell_type": "code",
   "execution_count": 6,
   "id": "f472c5dd",
   "metadata": {},
   "outputs": [
    {
     "data": {
      "text/plain": [
       "[('Washington Spirits vs Sky Blue FC', 5),\n",
       " ('The North American International Auto Show', 3),\n",
       " ('Christmas Spectacular', 3)]"
      ]
     },
     "execution_count": 6,
     "metadata": {},
     "output_type": "execute_result"
    }
   ],
   "source": [
    "# Get top-selling tickets for past month\n",
    "def query_popular_tickets(connection):\n",
    "     # Get the most popular ticket in the past month\n",
    "    sql_statement = \"select event_name, num_tickets from ticket_sales order by num_tickets desc limit 3\"\n",
    "    cursor = connection.cursor()\n",
    "    cursor.execute(sql_statement)\n",
    "    records = cursor.fetchall()\n",
    "    return records"
   ]
  },
  {
   "cell_type": "code",
   "execution_count": 11,
   "id": "a7de751f",
   "metadata": {},
   "outputs": [
    {
     "name": "stdout",
     "output_type": "stream",
     "text": [
      "Here are the most popular tickets in the past month:\n",
      "Washington Spirits vs Sky Blue FC: 5\n",
      "The North American International Auto Show: 3\n",
      "Christmas Spectacular: 3\n"
     ]
    }
   ],
   "source": [
    "def print_popular(data):\n",
    "    print(\"Here are the most popular tickets in the past month:\")\n",
    "    for row in data:\n",
    "        print(\"{}: {}\".format(row[0], row[1]))\n",
    "print_popular(query_popular_tickets(connection))"
   ]
  },
  {
   "cell_type": "code",
   "execution_count": null,
   "id": "de3903ef",
   "metadata": {},
   "outputs": [],
   "source": []
  }
 ],
 "metadata": {
  "kernelspec": {
   "display_name": "Python 3",
   "language": "python",
   "name": "python3"
  },
  "language_info": {
   "codemirror_mode": {
    "name": "ipython",
    "version": 3
   },
   "file_extension": ".py",
   "mimetype": "text/x-python",
   "name": "python",
   "nbconvert_exporter": "python",
   "pygments_lexer": "ipython3",
   "version": "3.8.8"
  }
 },
 "nbformat": 4,
 "nbformat_minor": 5
}
